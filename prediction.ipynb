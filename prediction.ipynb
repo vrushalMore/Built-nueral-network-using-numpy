{
 "cells": [
  {
   "cell_type": "code",
   "execution_count": 7,
   "metadata": {},
   "outputs": [
    {
     "name": "stdout",
     "output_type": "stream",
     "text": [
      "Iteration:  0\n",
      "[8 2 5 ... 4 4 4] [8 6 4 ... 0 6 4]\n",
      "0.07285365853658536\n",
      "Iteration:  10\n",
      "[7 9 0 ... 5 4 7] [8 6 4 ... 0 6 4]\n",
      "0.18797560975609756\n",
      "Iteration:  20\n",
      "[3 9 0 ... 2 6 6] [8 6 4 ... 0 6 4]\n",
      "0.2561219512195122\n",
      "Iteration:  30\n",
      "[3 9 5 ... 2 6 6] [8 6 4 ... 0 6 4]\n",
      "0.30390243902439024\n",
      "Iteration:  40\n",
      "[3 9 5 ... 0 6 6] [8 6 4 ... 0 6 4]\n",
      "0.3555853658536585\n",
      "Iteration:  50\n",
      "[3 9 5 ... 0 6 6] [8 6 4 ... 0 6 4]\n",
      "0.39482926829268294\n",
      "Iteration:  60\n",
      "[8 9 5 ... 0 6 6] [8 6 4 ... 0 6 4]\n",
      "0.43185365853658536\n",
      "Iteration:  70\n",
      "[8 9 5 ... 0 6 8] [8 6 4 ... 0 6 4]\n",
      "0.4709024390243902\n",
      "Iteration:  80\n",
      "[8 9 5 ... 0 6 8] [8 6 4 ... 0 6 4]\n",
      "0.5074390243902439\n",
      "Iteration:  90\n",
      "[8 9 5 ... 0 6 8] [8 6 4 ... 0 6 4]\n",
      "0.5387804878048781\n",
      "Iteration:  100\n",
      "[8 9 5 ... 0 6 8] [8 6 4 ... 0 6 4]\n",
      "0.5645365853658536\n",
      "Iteration:  110\n",
      "[8 4 5 ... 0 6 4] [8 6 4 ... 0 6 4]\n",
      "0.589\n",
      "Iteration:  120\n",
      "[8 4 5 ... 0 6 4] [8 6 4 ... 0 6 4]\n",
      "0.6121707317073171\n",
      "Iteration:  130\n",
      "[8 4 4 ... 0 6 4] [8 6 4 ... 0 6 4]\n",
      "0.6325609756097561\n",
      "Iteration:  140\n",
      "[8 6 4 ... 0 6 4] [8 6 4 ... 0 6 4]\n",
      "0.6495853658536586\n",
      "Iteration:  150\n",
      "[8 6 4 ... 0 6 4] [8 6 4 ... 0 6 4]\n",
      "0.6663170731707317\n",
      "Iteration:  160\n",
      "[8 6 4 ... 0 6 4] [8 6 4 ... 0 6 4]\n",
      "0.6801219512195122\n",
      "Iteration:  170\n",
      "[8 6 4 ... 0 6 4] [8 6 4 ... 0 6 4]\n",
      "0.6930975609756097\n",
      "Iteration:  180\n",
      "[8 6 4 ... 0 6 4] [8 6 4 ... 0 6 4]\n",
      "0.7050243902439024\n",
      "Iteration:  190\n",
      "[8 6 4 ... 0 6 4] [8 6 4 ... 0 6 4]\n",
      "0.7154634146341463\n",
      "Iteration:  200\n",
      "[8 6 4 ... 0 6 4] [8 6 4 ... 0 6 4]\n",
      "0.7245365853658536\n",
      "Iteration:  210\n",
      "[8 6 4 ... 0 6 4] [8 6 4 ... 0 6 4]\n",
      "0.7328048780487805\n",
      "Iteration:  220\n",
      "[8 6 4 ... 0 6 4] [8 6 4 ... 0 6 4]\n",
      "0.7404878048780488\n",
      "Iteration:  230\n",
      "[8 6 4 ... 0 6 4] [8 6 4 ... 0 6 4]\n",
      "0.7479512195121951\n",
      "Iteration:  240\n",
      "[8 6 4 ... 0 6 4] [8 6 4 ... 0 6 4]\n",
      "0.7550731707317073\n",
      "Iteration:  250\n",
      "[8 6 4 ... 0 6 4] [8 6 4 ... 0 6 4]\n",
      "0.7620731707317073\n",
      "Iteration:  260\n",
      "[8 6 4 ... 0 6 4] [8 6 4 ... 0 6 4]\n",
      "0.768609756097561\n",
      "Iteration:  270\n",
      "[8 6 4 ... 0 6 4] [8 6 4 ... 0 6 4]\n",
      "0.7745365853658537\n",
      "Iteration:  280\n",
      "[8 6 4 ... 0 6 4] [8 6 4 ... 0 6 4]\n",
      "0.7803658536585366\n",
      "Iteration:  290\n",
      "[8 6 4 ... 0 6 4] [8 6 4 ... 0 6 4]\n",
      "0.7860731707317073\n",
      "Iteration:  300\n",
      "[8 6 4 ... 0 6 4] [8 6 4 ... 0 6 4]\n",
      "0.7902926829268293\n",
      "Iteration:  310\n",
      "[8 6 4 ... 0 6 4] [8 6 4 ... 0 6 4]\n",
      "0.7947073170731708\n",
      "Iteration:  320\n",
      "[8 6 4 ... 0 6 4] [8 6 4 ... 0 6 4]\n",
      "0.7989512195121952\n",
      "Iteration:  330\n",
      "[8 6 4 ... 0 6 4] [8 6 4 ... 0 6 4]\n",
      "0.8026341463414635\n",
      "Iteration:  340\n",
      "[8 6 4 ... 0 6 4] [8 6 4 ... 0 6 4]\n",
      "0.8064146341463415\n",
      "Iteration:  350\n",
      "[8 6 4 ... 0 6 4] [8 6 4 ... 0 6 4]\n",
      "0.8093658536585366\n",
      "Iteration:  360\n",
      "[8 6 4 ... 0 6 4] [8 6 4 ... 0 6 4]\n",
      "0.8124878048780488\n",
      "Iteration:  370\n",
      "[8 6 4 ... 0 6 4] [8 6 4 ... 0 6 4]\n",
      "0.8154146341463414\n",
      "Iteration:  380\n",
      "[8 6 4 ... 0 6 4] [8 6 4 ... 0 6 4]\n",
      "0.8182439024390243\n",
      "Iteration:  390\n",
      "[8 6 4 ... 0 6 4] [8 6 4 ... 0 6 4]\n",
      "0.821170731707317\n",
      "Iteration:  400\n",
      "[8 6 4 ... 0 6 4] [8 6 4 ... 0 6 4]\n",
      "0.8238780487804878\n",
      "Iteration:  410\n",
      "[8 6 4 ... 0 6 4] [8 6 4 ... 0 6 4]\n",
      "0.8263658536585365\n",
      "Iteration:  420\n",
      "[8 6 4 ... 0 6 4] [8 6 4 ... 0 6 4]\n",
      "0.829170731707317\n",
      "Iteration:  430\n",
      "[8 6 4 ... 0 6 4] [8 6 4 ... 0 6 4]\n",
      "0.8309024390243902\n",
      "Iteration:  440\n",
      "[8 6 4 ... 0 6 4] [8 6 4 ... 0 6 4]\n",
      "0.832780487804878\n",
      "Iteration:  450\n",
      "[8 6 4 ... 0 6 4] [8 6 4 ... 0 6 4]\n",
      "0.8351463414634146\n",
      "Iteration:  460\n",
      "[8 6 4 ... 0 6 4] [8 6 4 ... 0 6 4]\n",
      "0.8369512195121951\n",
      "Iteration:  470\n",
      "[8 6 4 ... 0 6 4] [8 6 4 ... 0 6 4]\n",
      "0.8387073170731707\n",
      "Iteration:  480\n",
      "[8 6 4 ... 0 6 4] [8 6 4 ... 0 6 4]\n",
      "0.8404878048780487\n",
      "Iteration:  490\n",
      "[8 6 4 ... 0 6 4] [8 6 4 ... 0 6 4]\n",
      "0.842170731707317\n"
     ]
    }
   ],
   "source": [
    "import pandas as pd\n",
    "import numpy as np\n",
    "import matplotlib.pyplot as plt\n",
    "\n",
    "\n",
    "data = pd.read_csv('data/train.csv')\n",
    "\n",
    "data = np.array(data)\n",
    "m, n = data.shape\n",
    "np.random.shuffle(data) \n",
    "\n",
    "data_dev = data[0:1000].T\n",
    "Y_dev = data_dev[0]\n",
    "X_dev = data_dev[1:n]\n",
    "X_dev = X_dev / 255.\n",
    "\n",
    "data_train = data[1000:m].T\n",
    "Y_train = data_train[0]\n",
    "X_train = data_train[1:n]\n",
    "X_train = X_train / 255.\n",
    "_,m_train = X_train.shape\n",
    "\n",
    "def init_params():\n",
    "    W1 = np.random.rand(10, 784) - 0.5\n",
    "    b1 = np.random.rand(10, 1) - 0.5\n",
    "    W2 = np.random.rand(10, 10) - 0.5\n",
    "    b2 = np.random.rand(10, 1) - 0.5\n",
    "    return W1, b1, W2, b2\n",
    "\n",
    "def ReLU(Z):\n",
    "    return np.maximum(Z, 0)\n",
    "\n",
    "def softmax(Z):\n",
    "    A = np.exp(Z) / sum(np.exp(Z))\n",
    "    return A\n",
    "\n",
    "\n",
    "def forward_prop(W1, b1, W2, b2, X):\n",
    "    Z1 = W1.dot(X) + b1\n",
    "    A1 = ReLU(Z1)\n",
    "    Z2 = W2.dot(A1) + b2\n",
    "    A2 = softmax(Z2)\n",
    "    return Z1, A1, Z2, A2\n",
    "\n",
    "def ReLU_deriv(Z):\n",
    "    return Z > 0\n",
    "\n",
    "def one_hot(Y):\n",
    "    one_hot_Y = np.zeros((Y.size, Y.max() + 1))\n",
    "    one_hot_Y[np.arange(Y.size), Y] = 1\n",
    "    one_hot_Y = one_hot_Y.T\n",
    "    return one_hot_Y\n",
    "\n",
    "def backward_prop(Z1, A1, Z2, A2, W1, W2, X, Y):\n",
    "    one_hot_Y = one_hot(Y)\n",
    "    dZ2 = A2 - one_hot_Y\n",
    "    dW2 = 1 / m * dZ2.dot(A1.T)\n",
    "    db2 = 1 / m * np.sum(dZ2)\n",
    "    dZ1 = W2.T.dot(dZ2) * ReLU_deriv(Z1)\n",
    "    dW1 = 1 / m * dZ1.dot(X.T)\n",
    "    db1 = 1 / m * np.sum(dZ1)\n",
    "    return dW1, db1, dW2, db2\n",
    "\n",
    "def update_params(W1, b1, W2, b2, dW1, db1, dW2, db2, alpha):\n",
    "    W1 = W1 - alpha * dW1\n",
    "    b1 = b1 - alpha * db1    \n",
    "    W2 = W2 - alpha * dW2  \n",
    "    b2 = b2 - alpha * db2    \n",
    "    return W1, b1, W2, b2\n",
    "\n",
    "def get_predictions(A2):\n",
    "    return np.argmax(A2, 0)\n",
    "\n",
    "def get_accuracy(predictions, Y):\n",
    "    print(predictions, Y)\n",
    "    return np.sum(predictions == Y) / Y.size\n",
    "\n",
    "def gradient_descent(X, Y, alpha, iterations):\n",
    "    W1, b1, W2, b2 = init_params()\n",
    "    for i in range(iterations):\n",
    "        Z1, A1, Z2, A2 = forward_prop(W1, b1, W2, b2, X)\n",
    "        dW1, db1, dW2, db2 = backward_prop(Z1, A1, Z2, A2, W1, W2, X, Y)\n",
    "        W1, b1, W2, b2 = update_params(W1, b1, W2, b2, dW1, db1, dW2, db2, alpha)\n",
    "        if i % 10 == 0:\n",
    "            print(\"Iteration: \", i)\n",
    "            predictions = get_predictions(A2)\n",
    "            print(get_accuracy(predictions, Y))\n",
    "    return W1, b1, W2, b2\n",
    "\n",
    "W1, b1, W2, b2 = gradient_descent(X_train, Y_train, 0.10, 500)\n",
    "\n",
    "def make_predictions(X, W1, b1, W2, b2):\n",
    "    _, _, _, A2 = forward_prop(W1, b1, W2, b2, X)\n",
    "    predictions = get_predictions(A2)\n",
    "    return predictions\n",
    "\n",
    "def test_prediction(index, W1, b1, W2, b2):\n",
    "    current_image = X_train[:, index, None]\n",
    "    prediction = make_predictions(X_train[:, index, None], W1, b1, W2, b2)\n",
    "    label = Y_train[index]\n",
    "    print(\"Prediction: \", prediction)\n",
    "    print(\"Label: \", label)\n",
    "    \n",
    "    current_image = current_image.reshape((28, 28)) * 255\n",
    "    plt.gray()\n",
    "    plt.imshow(current_image, interpolation='nearest')\n",
    "    plt.show()\n"
   ]
  },
  {
   "cell_type": "code",
   "execution_count": 8,
   "metadata": {},
   "outputs": [
    {
     "name": "stdout",
     "output_type": "stream",
     "text": [
      "Prediction:  [8]\n",
      "Label:  8\n"
     ]
    },
    {
     "data": {
      "image/png": "[encoded data removed]",
      "text/plain": [
       "<Figure size 640x480 with 1 Axes>"
      ]
     },
     "metadata": {},
     "output_type": "display_data"
    }
   ],
   "source": [
    "test_prediction(0, W1, b1, W2, b2)"
   ]
  },
  {
   "cell_type": "code",
   "execution_count": 9,
   "metadata": {},
   "outputs": [
    {
     "name": "stdout",
     "output_type": "stream",
     "text": [
      "Prediction:  [6]\n",
      "Label:  6\n"
     ]
    },
    {
     "data": {
      "image/png": "[encoded data removed]",
      "text/plain": [
       "<Figure size 640x480 with 1 Axes>"
      ]
     },
     "metadata": {},
     "output_type": "display_data"
    }
   ],
   "source": [
    "test_prediction(1, W1, b1, W2, b2)"
   ]
  },
  {
   "cell_type": "code",
   "execution_count": 10,
   "metadata": {},
   "outputs": [
    {
     "name": "stdout",
     "output_type": "stream",
     "text": [
      "Prediction:  [4]\n",
      "Label:  4\n"
     ]
    },
    {
     "data": {
      "image/png": "[encoded data removed]",
      "text/plain": [
       "<Figure size 640x480 with 1 Axes>"
      ]
     },
     "metadata": {},
     "output_type": "display_data"
    }
   ],
   "source": [
    "test_prediction(2, W1, b1, W2, b2)\n"
   ]
  },
  {
   "cell_type": "code",
   "execution_count": 11,
   "metadata": {},
   "outputs": [
    {
     "name": "stdout",
     "output_type": "stream",
     "text": [
      "Prediction:  [2]\n",
      "Label:  2\n"
     ]
    },
    {
     "data": {
      "image/png": "[encoded data removed]",
      "text/plain": [
       "<Figure size 640x480 with 1 Axes>"
      ]
     },
     "metadata": {},
     "output_type": "display_data"
    }
   ],
   "source": [
    "test_prediction(3, W1, b1, W2, b2)"
   ]
  },
  {
   "cell_type": "code",
   "execution_count": 12,
   "metadata": {},
   "outputs": [
    {
     "name": "stdout",
     "output_type": "stream",
     "text": [
      "Prediction:  [7]\n",
      "Label:  5\n"
     ]
    },
    {
     "data": {
      "image/png": "[encoded data removed]",
      "text/plain": [
       "<Figure size 640x480 with 1 Axes>"
      ]
     },
     "metadata": {},
     "output_type": "display_data"
    }
   ],
   "source": [
    "test_prediction(4, W1, b1, W2, b2)"
   ]
  },
  {
   "cell_type": "code",
   "execution_count": 13,
   "metadata": {},
   "outputs": [
    {
     "name": "stdout",
     "output_type": "stream",
     "text": [
      "Prediction:  [6]\n",
      "Label:  6\n"
     ]
    },
    {
     "data": {
      "image/png": "[encoded data removed]",
      "text/plain": [
       "<Figure size 640x480 with 1 Axes>"
      ]
     },
     "metadata": {},
     "output_type": "display_data"
    }
   ],
   "source": [
    "test_prediction(5, W1, b1, W2, b2)"
   ]
  },
  {
   "cell_type": "code",
   "execution_count": 14,
   "metadata": {},
   "outputs": [
    {
     "name": "stdout",
     "output_type": "stream",
     "text": [
      "Prediction:  [0]\n",
      "Label:  5\n"
     ]
    },
    {
     "data": {
      "image/png": "[encoded data removed]",
      "text/plain": [
       "<Figure size 640x480 with 1 Axes>"
      ]
     },
     "metadata": {},
     "output_type": "display_data"
    }
   ],
   "source": [
    "test_prediction(6, W1, b1, W2, b2)"
   ]
  },
  {
   "cell_type": "code",
   "execution_count": 15,
   "metadata": {},
   "outputs": [
    {
     "name": "stdout",
     "output_type": "stream",
     "text": [
      "Prediction:  [0]\n",
      "Label:  0\n"
     ]
    },
    {
     "data": {
      "image/png": "[encoded data removed]",
      "text/plain": [
       "<Figure size 640x480 with 1 Axes>"
      ]
     },
     "metadata": {},
     "output_type": "display_data"
    }
   ],
   "source": [
    "test_prediction(7, W1, b1, W2, b2)"
   ]
  },
  {
   "cell_type": "code",
   "execution_count": 16,
   "metadata": {},
   "outputs": [
    {
     "name": "stdout",
     "output_type": "stream",
     "text": [
      "Prediction:  [4]\n",
      "Label:  2\n"
     ]
    },
    {
     "data": {
      "image/png": "[encoded data removed]",
      "text/plain": [
       "<Figure size 640x480 with 1 Axes>"
      ]
     },
     "metadata": {},
     "output_type": "display_data"
    }
   ],
   "source": [
    "test_prediction(8, W1, b1, W2, b2)"
   ]
  },
  {
   "cell_type": "code",
   "execution_count": 17,
   "metadata": {},
   "outputs": [
    {
     "name": "stdout",
     "output_type": "stream",
     "text": [
      "Prediction:  [6]\n",
      "Label:  6\n"
     ]
    },
    {
     "data": {
      "image/png": "[encoded data removed]",
      "text/plain": [
       "<Figure size 640x480 with 1 Axes>"
      ]
     },
     "metadata": {},
     "output_type": "display_data"
    }
   ],
   "source": [
    "test_prediction(9, W1, b1, W2, b2)"
   ]
  }
 ],
 "metadata": {
  "kernelspec": {
   "display_name": "base",
   "language": "python",
   "name": "python3"
  },
  "language_info": {
   "codemirror_mode": {
    "name": "ipython",
    "version": 3
   },
   "file_extension": ".py",
   "mimetype": "text/x-python",
   "name": "python",
   "nbconvert_exporter": "python",
   "pygments_lexer": "ipython3",
   "version": "3.11.7"
  }
 },
 "nbformat": 4,
 "nbformat_minor": 2
}
